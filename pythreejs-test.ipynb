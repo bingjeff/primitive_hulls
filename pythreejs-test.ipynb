{
 "cells": [
  {
   "cell_type": "code",
   "execution_count": 1,
   "metadata": {},
   "outputs": [],
   "source": [
    "from pythreejs import *\n",
    "import numpy as np\n",
    "from IPython.display import display\n",
    "from ipywidgets import HTML, Text, Output, VBox\n",
    "from traitlets import link, dlink"
   ]
  },
  {
   "cell_type": "code",
   "execution_count": 2,
   "metadata": {},
   "outputs": [
    {
     "data": {
      "application/vnd.jupyter.widget-view+json": {
       "model_id": "8732502ddc444b179d824f16b3f3bf10",
       "version_major": 2,
       "version_minor": 0
      },
      "text/plain": [
       "Renderer(camera=PerspectiveCamera(children=(DirectionalLight(color='white', intensity=0.5, position=(3.0, 5.0,…"
      ]
     },
     "metadata": {},
     "output_type": "display_data"
    }
   ],
   "source": [
    "ball = Mesh(geometry=SphereGeometry(radius=1, widthSegments=32, heightSegments=24), \n",
    "            material=MeshLambertMaterial(color='red'),\n",
    "            position=[2, 1, 0])\n",
    "\n",
    "c = PerspectiveCamera(position=[0, 5, 5], up=[0, 1, 0],\n",
    "                      children=[DirectionalLight(color='white', position=[3, 5, 1], intensity=0.5)])\n",
    "\n",
    "scene = Scene(children=[ball, c, AmbientLight(color='#777777')])\n",
    "\n",
    "renderer = Renderer(camera=c, \n",
    "                    scene=scene, \n",
    "                    controls=[OrbitControls(controlling=c)])\n",
    "display(renderer)"
   ]
  },
  {
   "cell_type": "code",
   "execution_count": 3,
   "metadata": {},
   "outputs": [],
   "source": [
    "ball.scale = (0.5,) * 3"
   ]
  },
  {
   "cell_type": "code",
   "execution_count": 4,
   "metadata": {},
   "outputs": [],
   "source": [
    "import time, math\n",
    "ball.material.color = '#4400dd'\n",
    "for i in range(1, 150, 2):\n",
    "    ball.scale = (i / 100.,) * 3\n",
    "    ball.position = [math.cos(i / 10.), math.sin(i / 50.), i / 100.]\n",
    "    time.sleep(.05)"
   ]
  },
  {
   "cell_type": "code",
   "execution_count": 4,
   "metadata": {},
   "outputs": [
    {
     "data": {
      "text/plain": [
       "{'9da501ac18344252b5d77a5aebb5a70e': SphereGeometry(heightSegments=24, widthSegments=32),\n",
       " '9e8f7b6d3821421c93ef368d7b6a9615': MeshLambertMaterial(alphaMap=None, aoMap=None, color='red', emissiveMap=None, envMap=None, lightMap=None, map=None, specularMap=None),\n",
       " '5303feccddd54701b7c020fd82fc7a0f': Mesh(geometry=SphereGeometry(heightSegments=24, widthSegments=32), material=MeshLambertMaterial(alphaMap=None, aoMap=None, color='red', emissiveMap=None, envMap=None, lightMap=None, map=None, specularMap=None), position=(2.0, 1.0, 0.0)),\n",
       " '30490a90f2974875a1348f720a157921': DirectionalLight(color='white', intensity=0.5, matrixWorldNeedsUpdate=True, position=(3.0, 5.0, 1.0), shadow=DirectionalLightShadow(camera=OrthographicCamera(bottom=-5.0, far=500.0, left=-5.0, near=0.5, projectionMatrix=(0.2, 0.0, 0.0, 0.0, 0.0, 0.2, 0.0, 0.0, 0.0, 0.0, -0.004004004004004004, 0.0, 0.0, 0.0, -1.002002002002002, 1.0), right=5.0, top=5.0)), target=Object3D()),\n",
       " '4c4e00a347dc45c285588ba4f3c9f16f': PerspectiveCamera(children=(DirectionalLight(color='white', intensity=0.5, matrixWorldNeedsUpdate=True, position=(3.0, 5.0, 1.0), shadow=DirectionalLightShadow(camera=OrthographicCamera(bottom=-5.0, far=500.0, left=-5.0, near=0.5, projectionMatrix=(0.2, 0.0, 0.0, 0.0, 0.0, 0.2, 0.0, 0.0, 0.0, 0.0, -0.004004004004004004, 0.0, 0.0, 0.0, -1.002002002002002, 1.0), right=5.0, top=5.0)), target=Object3D()),), position=(0.0, 5.0, 5.0), projectionMatrix=(2.1445069205095586, 0.0, 0.0, 0.0, 0.0, 2.1445069205095586, 0.0, 0.0, 0.0, 0.0, -1.00010000500025, -1.0, 0.0, 0.0, -0.200010000500025, 0.0), up=(0.0, 1.0, 0.0)),\n",
       " 'b4621a864ff245c884064c1216fd9544': AmbientLight(color='#777777'),\n",
       " 'ccd99b8d63244c1faa19935fb5423379': Scene(children=(Mesh(geometry=SphereGeometry(heightSegments=24, widthSegments=32), material=MeshLambertMaterial(alphaMap=None, aoMap=None, color='red', emissiveMap=None, envMap=None, lightMap=None, map=None, specularMap=None), position=(2.0, 1.0, 0.0)), PerspectiveCamera(children=(DirectionalLight(color='white', intensity=0.5, matrixWorldNeedsUpdate=True, position=(3.0, 5.0, 1.0), shadow=DirectionalLightShadow(camera=OrthographicCamera(bottom=-5.0, far=500.0, left=-5.0, near=0.5, projectionMatrix=(0.2, 0.0, 0.0, 0.0, 0.0, 0.2, 0.0, 0.0, 0.0, 0.0, -0.004004004004004004, 0.0, 0.0, 0.0, -1.002002002002002, 1.0), right=5.0, top=5.0)), target=Object3D()),), position=(0.0, 5.0, 5.0), projectionMatrix=(2.1445069205095586, 0.0, 0.0, 0.0, 0.0, 2.1445069205095586, 0.0, 0.0, 0.0, 0.0, -1.00010000500025, -1.0, 0.0, 0.0, -0.200010000500025, 0.0), up=(0.0, 1.0, 0.0)), AmbientLight(color='#777777')), fog=None, overrideMaterial=None),\n",
       " '5b5f2dbe8df340ada337cb56a0a97082': OrbitControls(controlling=PerspectiveCamera(children=(DirectionalLight(color='white', intensity=0.5, matrixWorldNeedsUpdate=True, position=(3.0, 5.0, 1.0), shadow=DirectionalLightShadow(camera=OrthographicCamera(bottom=-5.0, far=500.0, left=-5.0, near=0.5, projectionMatrix=(0.2, 0.0, 0.0, 0.0, 0.0, 0.2, 0.0, 0.0, 0.0, 0.0, -0.004004004004004004, 0.0, 0.0, 0.0, -1.002002002002002, 1.0), right=5.0, top=5.0)), target=Object3D()),), position=(0.0, 5.0, 5.0), projectionMatrix=(2.1445069205095586, 0.0, 0.0, 0.0, 0.0, 2.1445069205095586, 0.0, 0.0, 0.0, 0.0, -1.00010000500025, -1.0, 0.0, 0.0, -0.200010000500025, 0.0), up=(0.0, 1.0, 0.0))),\n",
       " '12a80b748d464314a91476a684899727': Layout(),\n",
       " '28101adf19e040798fe1e834c96602a5': WebGLShadowMap(),\n",
       " '8732502ddc444b179d824f16b3f3bf10': Renderer(camera=PerspectiveCamera(children=(DirectionalLight(color='white', intensity=0.5, matrixWorldNeedsUpdate=True, position=(3.0, 5.0, 1.0), shadow=DirectionalLightShadow(camera=OrthographicCamera(bottom=-5.0, far=500.0, left=-5.0, near=0.5, projectionMatrix=(0.2, 0.0, 0.0, 0.0, 0.0, 0.2, 0.0, 0.0, 0.0, 0.0, -0.004004004004004004, 0.0, 0.0, 0.0, -1.002002002002002, 1.0), right=5.0, top=5.0)), target=Object3D()),), position=(0.0, 5.0, 5.0), projectionMatrix=(2.1445069205095586, 0.0, 0.0, 0.0, 0.0, 2.1445069205095586, 0.0, 0.0, 0.0, 0.0, -1.00010000500025, -1.0, 0.0, 0.0, -0.200010000500025, 0.0), up=(0.0, 1.0, 0.0)), controls=[OrbitControls(controlling=PerspectiveCamera(children=(DirectionalLight(color='white', intensity=0.5, matrixWorldNeedsUpdate=True, position=(3.0, 5.0, 1.0), shadow=DirectionalLightShadow(camera=OrthographicCamera(bottom=-5.0, far=500.0, left=-5.0, near=0.5, projectionMatrix=(0.2, 0.0, 0.0, 0.0, 0.0, 0.2, 0.0, 0.0, 0.0, 0.0, -0.004004004004004004, 0.0, 0.0, 0.0, -1.002002002002002, 1.0), right=5.0, top=5.0)), target=Object3D()),), position=(0.0, 5.0, 5.0), projectionMatrix=(2.1445069205095586, 0.0, 0.0, 0.0, 0.0, 2.1445069205095586, 0.0, 0.0, 0.0, 0.0, -1.00010000500025, -1.0, 0.0, 0.0, -0.200010000500025, 0.0), up=(0.0, 1.0, 0.0)))], scene=Scene(children=(Mesh(geometry=SphereGeometry(heightSegments=24, widthSegments=32), material=MeshLambertMaterial(alphaMap=None, aoMap=None, color='red', emissiveMap=None, envMap=None, lightMap=None, map=None, specularMap=None), position=(2.0, 1.0, 0.0)), PerspectiveCamera(children=(DirectionalLight(color='white', intensity=0.5, matrixWorldNeedsUpdate=True, position=(3.0, 5.0, 1.0), shadow=DirectionalLightShadow(camera=OrthographicCamera(bottom=-5.0, far=500.0, left=-5.0, near=0.5, projectionMatrix=(0.2, 0.0, 0.0, 0.0, 0.0, 0.2, 0.0, 0.0, 0.0, 0.0, -0.004004004004004004, 0.0, 0.0, 0.0, -1.002002002002002, 1.0), right=5.0, top=5.0)), target=Object3D()),), position=(0.0, 5.0, 5.0), projectionMatrix=(2.1445069205095586, 0.0, 0.0, 0.0, 0.0, 2.1445069205095586, 0.0, 0.0, 0.0, 0.0, -1.00010000500025, -1.0, 0.0, 0.0, -0.200010000500025, 0.0), up=(0.0, 1.0, 0.0)), AmbientLight(color='#777777')), fog=None, overrideMaterial=None), shadowMap=WebGLShadowMap()),\n",
       " '2b1e6622-d256-4b1c-8846-23033c6cdafc': Object3D(),\n",
       " '4658b509-0a74-4a1d-a6a0-16a0b359763a': OrthographicCamera(bottom=-5.0, far=500.0, left=-5.0, near=0.5, projectionMatrix=(0.2, 0.0, 0.0, 0.0, 0.0, 0.2, 0.0, 0.0, 0.0, 0.0, -0.004004004004004004, 0.0, 0.0, 0.0, -1.002002002002002, 1.0), right=5.0, top=5.0),\n",
       " '9460f2fb-acbe-4445-8895-755d29d68a6e': DirectionalLightShadow(camera=OrthographicCamera(bottom=-5.0, far=500.0, left=-5.0, near=0.5, projectionMatrix=(0.2, 0.0, 0.0, 0.0, 0.0, 0.2, 0.0, 0.0, 0.0, 0.0, -0.004004004004004004, 0.0, 0.0, 0.0, -1.002002002002002, 1.0), right=5.0, top=5.0))}"
      ]
     },
     "execution_count": 4,
     "metadata": {},
     "output_type": "execute_result"
    }
   ],
   "source": [
    "renderer.widgets"
   ]
  },
  {
   "cell_type": "code",
   "execution_count": null,
   "metadata": {},
   "outputs": [],
   "source": []
  }
 ],
 "metadata": {
  "kernelspec": {
   "display_name": "Python 3",
   "language": "python",
   "name": "python3"
  },
  "language_info": {
   "codemirror_mode": {
    "name": "ipython",
    "version": 3
   },
   "file_extension": ".py",
   "mimetype": "text/x-python",
   "name": "python",
   "nbconvert_exporter": "python",
   "pygments_lexer": "ipython3",
   "version": "3.7.3"
  }
 },
 "nbformat": 4,
 "nbformat_minor": 4
}
